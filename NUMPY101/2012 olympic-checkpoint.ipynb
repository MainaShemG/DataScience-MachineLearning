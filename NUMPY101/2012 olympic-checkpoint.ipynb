{
 "cells": [
  {
   "cell_type": "code",
   "execution_count": 1,
   "id": "df8e2f2f",
   "metadata": {},
   "outputs": [],
   "source": [
    "import numpy as np\n",
    "countries = np.array(['GB','China','Russia','Us','Korea','Japan','Germany'])\n",
    "country_code = np.array(['GBR','CHI','RUS','USA','KOR','JPN','GER'])\n",
    "year = np.array([2012,2012,2012,2012,2012,2012,2012])\n",
    "gold = np.array([29,38,24,46,13,7,11])\n",
    "silver = np.array([17,28,25,28,8,14,11])\n",
    "bronze = np.array([19,22,32,29,7,17,14])"
   ]
  },
  {
   "cell_type": "code",
   "execution_count": 4,
   "id": "e59a85f8",
   "metadata": {},
   "outputs": [
    {
     "data": {
      "text/plain": [
       "3"
      ]
     },
     "execution_count": 4,
     "metadata": {},
     "output_type": "execute_result"
    }
   ],
   "source": [
    "#country with most gold\n",
    "highest_gold = gold.argmax()"
   ]
  },
  {
   "cell_type": "code",
   "execution_count": 7,
   "id": "142367bd",
   "metadata": {},
   "outputs": [],
   "source": [
    "country_with_most_gold = countries[highest_gold]"
   ]
  },
  {
   "cell_type": "code",
   "execution_count": 8,
   "id": "59205915",
   "metadata": {},
   "outputs": [
    {
     "data": {
      "text/plain": [
       "'Us'"
      ]
     },
     "execution_count": 8,
     "metadata": {},
     "output_type": "execute_result"
    }
   ],
   "source": [
    "country_with_most_gold"
   ]
  },
  {
   "cell_type": "code",
   "execution_count": 9,
   "id": "1ef2d06c",
   "metadata": {},
   "outputs": [
    {
     "name": "stdout",
     "output_type": "stream",
     "text": [
      "['GBR' 'CHI' 'RUS' 'USA']\n"
     ]
    }
   ],
   "source": [
    "#more than 20 gold medals\n",
    "print(country_code[gold>20])"
   ]
  },
  {
   "cell_type": "code",
   "execution_count": 10,
   "id": "468feec8",
   "metadata": {},
   "outputs": [
    {
     "name": "stdout",
     "output_type": "stream",
     "text": [
      "[ 65  88  81 103  28  38  36]\n"
     ]
    }
   ],
   "source": [
    "#name of each country with its gold medals and total number of medals\n",
    "total_medals = gold + silver + bronze\n",
    "print(total_medals)"
   ]
  },
  {
   "cell_type": "code",
   "execution_count": 19,
   "id": "c14cdae0",
   "metadata": {},
   "outputs": [
    {
     "name": "stdout",
     "output_type": "stream",
     "text": [
      "GBR has 29 golds and 65 total medals\n",
      "CHI has 38 golds and 88 total medals\n",
      "RUS has 24 golds and 81 total medals\n",
      "USA has 46 golds and 103 total medals\n",
      "KOR has 13 golds and 28 total medals\n",
      "JPN has 7 golds and 38 total medals\n",
      "GER has 11 golds and 36 total medals\n"
     ]
    }
   ],
   "source": [
    "for i in range (len(countries)):\n",
    "    name = country_code[i]\n",
    "    total_gold = gold[i]\n",
    "    tally = total_medals[i]\n",
    "    print('{} has {} golds and {} total medals'.format(name,total_gold,tally))\n"
   ]
  },
  {
   "cell_type": "code",
   "execution_count": null,
   "id": "2e628742",
   "metadata": {},
   "outputs": [],
   "source": []
  }
 ],
 "metadata": {
  "kernelspec": {
   "display_name": "Python 3 (ipykernel)",
   "language": "python",
   "name": "python3"
  },
  "language_info": {
   "codemirror_mode": {
    "name": "ipython",
    "version": 3
   },
   "file_extension": ".py",
   "mimetype": "text/x-python",
   "name": "python",
   "nbconvert_exporter": "python",
   "pygments_lexer": "ipython3",
   "version": "3.9.7"
  }
 },
 "nbformat": 4,
 "nbformat_minor": 5
}
