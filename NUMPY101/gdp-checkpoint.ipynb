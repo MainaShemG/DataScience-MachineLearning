{
 "cells": [
  {
   "cell_type": "code",
   "execution_count": 1,
   "id": "f98497c5",
   "metadata": {},
   "outputs": [],
   "source": [
    "import numpy as np\n",
    "list_of_countries = np.array(['Algeria','Angola','Argentina','Australia','Austria','Bahamas','Bangladesh','Belarus','Belgium','Bhutan','Brazil','Bulgaria','Cambodia','Cameroon','Chile',\n",
    "                     'China','Colombia','Cyprus','Denmark','El Salvador','Estonia','Ethiopia','Fiji','Finland','France','Georgia','Ghana',\n",
    "                     'Grenada','Guinea','Haiti','Honduras','Hungary','India','Indonesia','Ireland','Italy','Japan','Kenya', 'South Korea','Liberia','Malaysia','Mexico',\n",
    "                     'Morocco','Nepal','New Zealand','Norway','Pakistan', 'Peru','Qatar','Russia','Singapore','South Africa','Spain','Sweden','Switzerland','Thailand',\n",
    "                     'United Arab Emirates','United Kingdom','United States','Uruguay','Venezuela','Vietnam','Zimbabwe'])\n",
    "gdp_values = np.array([2255.225482,629.9553062,11601.63022,25306.82494,27266.40335,19466.99052,588.3691778,2890.345675,\n",
    "               24733.62696,1445.760002,4803.398244,2618.876037,590.4521124,665.7982328,7122.938458,2639.54156,3362.4656,\n",
    "               15378.16704,30860.12808,2579.115607,6525.541272,229.6769525,2242.689259,\n",
    "               27570.4852,23016.84778,1334.646773,402.6953275,6047.200797,\n",
    "               394.1156638,385.5793827,1414.072488,5745.981529,837.7464011,1206.991065,27715.52837,\n",
    "               18937.24998,39578.07441,478.2194906,16684.21278,279.2204061,5345.213415,6288.25324,1908.304416,274.8728621,14646.42094,\n",
    "               40034.85063,672.1547506,3359.517402,36152.66676,3054.727742,33529.83052,3825.093781,15428.32098,33630.24604,\n",
    "               39170.41371,2699.123242,21058.43643,28272.40661,37691.02733,\n",
    "               9581.05659,5671.912202,757.4009286,347.7456605])"
   ]
  },
  {
   "cell_type": "code",
   "execution_count": 2,
   "id": "e5989351",
   "metadata": {},
   "outputs": [],
   "source": [
    "#print country with highest gdp\n",
    "max_gdp_value = gdp_values.argmax()"
   ]
  },
  {
   "cell_type": "code",
   "execution_count": 3,
   "id": "03418854",
   "metadata": {},
   "outputs": [],
   "source": [
    "country_with_max_gdp = list_of_countries[max_gdp_value]"
   ]
  },
  {
   "cell_type": "code",
   "execution_count": 4,
   "id": "9e215139",
   "metadata": {},
   "outputs": [
    {
     "data": {
      "text/plain": [
       "'Norway'"
      ]
     },
     "execution_count": 4,
     "metadata": {},
     "output_type": "execute_result"
    }
   ],
   "source": [
    "country_with_max_gdp"
   ]
  },
  {
   "cell_type": "code",
   "execution_count": 5,
   "id": "4d19a412",
   "metadata": {},
   "outputs": [],
   "source": [
    "#print country wth lowest gdp\n",
    "min_gdp_value = gdp_values.argmin()"
   ]
  },
  {
   "cell_type": "code",
   "execution_count": 7,
   "id": "477e68b2",
   "metadata": {},
   "outputs": [],
   "source": [
    "country_with_min_gdp = list_of_countries[min_gdp_value]"
   ]
  },
  {
   "cell_type": "code",
   "execution_count": 8,
   "id": "6e06db43",
   "metadata": {},
   "outputs": [
    {
     "data": {
      "text/plain": [
       "'Ethiopia'"
      ]
     },
     "execution_count": 8,
     "metadata": {},
     "output_type": "execute_result"
    }
   ],
   "source": [
    "country_with_min_gdp"
   ]
  },
  {
   "cell_type": "code",
   "execution_count": 18,
   "id": "96e322a7",
   "metadata": {},
   "outputs": [
    {
     "name": "stdout",
     "output_type": "stream",
     "text": [
      "evaluating Algeria\n",
      "evaluating Angola\n",
      "evaluating Argentina\n",
      "evaluating Australia\n",
      "evaluating Austria\n",
      "evaluating Bahamas\n",
      "evaluating Bangladesh\n",
      "evaluating Belarus\n",
      "evaluating Belgium\n",
      "evaluating Bhutan\n",
      "evaluating Brazil\n",
      "evaluating Bulgaria\n",
      "evaluating Cambodia\n",
      "evaluating Cameroon\n",
      "evaluating Chile\n",
      "evaluating China\n",
      "evaluating Colombia\n",
      "evaluating Cyprus\n",
      "evaluating Denmark\n",
      "evaluating El Salvador\n",
      "evaluating Estonia\n",
      "evaluating Ethiopia\n",
      "evaluating Fiji\n",
      "evaluating Finland\n",
      "evaluating France\n",
      "evaluating Georgia\n",
      "evaluating Ghana\n",
      "evaluating Grenada\n",
      "evaluating Guinea\n",
      "evaluating Haiti\n",
      "evaluating Honduras\n",
      "evaluating Hungary\n",
      "evaluating India\n",
      "evaluating Indonesia\n",
      "evaluating Ireland\n",
      "evaluating Italy\n",
      "evaluating Japan\n",
      "evaluating Kenya\n",
      "evaluating South Korea\n",
      "evaluating Liberia\n",
      "evaluating Malaysia\n",
      "evaluating Mexico\n",
      "evaluating Morocco\n",
      "evaluating Nepal\n",
      "evaluating New Zealand\n",
      "evaluating Norway\n",
      "evaluating Pakistan\n",
      "evaluating Peru\n",
      "evaluating Qatar\n",
      "evaluating Russia\n",
      "evaluating Singapore\n",
      "evaluating South Africa\n",
      "evaluating Spain\n",
      "evaluating Sweden\n",
      "evaluating Switzerland\n",
      "evaluating Thailand\n",
      "evaluating United Arab Emirates\n",
      "evaluating United Kingdom\n",
      "evaluating United States\n",
      "evaluating Uruguay\n",
      "evaluating Venezuela\n",
      "evaluating Vietnam\n",
      "evaluating Zimbabwe\n"
     ]
    }
   ],
   "source": [
    "#print countries\n",
    "for country in list_of_countries:\n",
    "    print('evaluating {}'.format(country))"
   ]
  },
  {
   "cell_type": "code",
   "execution_count": 24,
   "id": "123dc7f9",
   "metadata": {},
   "outputs": [
    {
     "name": "stdout",
     "output_type": "stream",
     "text": [
      "Algeria gdp per capita is2255.225482\n",
      "Angola gdp per capita is629.9553062\n",
      "Argentina gdp per capita is11601.63022\n",
      "Australia gdp per capita is25306.82494\n",
      "Austria gdp per capita is27266.40335\n",
      "Bahamas gdp per capita is19466.99052\n",
      "Bangladesh gdp per capita is588.3691778\n",
      "Belarus gdp per capita is2890.345675\n",
      "Belgium gdp per capita is24733.62696\n",
      "Bhutan gdp per capita is1445.760002\n",
      "Brazil gdp per capita is4803.398244\n",
      "Bulgaria gdp per capita is2618.876037\n",
      "Cambodia gdp per capita is590.4521124\n",
      "Cameroon gdp per capita is665.7982328\n",
      "Chile gdp per capita is7122.938458\n",
      "China gdp per capita is2639.54156\n",
      "Colombia gdp per capita is3362.4656\n",
      "Cyprus gdp per capita is15378.16704\n",
      "Denmark gdp per capita is30860.12808\n",
      "El Salvador gdp per capita is2579.115607\n",
      "Estonia gdp per capita is6525.541272\n",
      "Ethiopia gdp per capita is229.6769525\n",
      "Fiji gdp per capita is2242.689259\n",
      "Finland gdp per capita is27570.4852\n",
      "France gdp per capita is23016.84778\n",
      "Georgia gdp per capita is1334.646773\n",
      "Ghana gdp per capita is402.6953275\n",
      "Grenada gdp per capita is6047.200797\n",
      "Guinea gdp per capita is394.1156638\n",
      "Haiti gdp per capita is385.5793827\n",
      "Honduras gdp per capita is1414.072488\n",
      "Hungary gdp per capita is5745.981529\n",
      "India gdp per capita is837.7464011\n",
      "Indonesia gdp per capita is1206.991065\n",
      "Ireland gdp per capita is27715.52837\n",
      "Italy gdp per capita is18937.24998\n",
      "Japan gdp per capita is39578.07441\n",
      "Kenya gdp per capita is478.2194906\n",
      "South Korea gdp per capita is16684.21278\n",
      "Liberia gdp per capita is279.2204061\n",
      "Malaysia gdp per capita is5345.213415\n",
      "Mexico gdp per capita is6288.25324\n",
      "Morocco gdp per capita is1908.304416\n",
      "Nepal gdp per capita is274.8728621\n",
      "New Zealand gdp per capita is14646.42094\n",
      "Norway gdp per capita is40034.85063\n",
      "Pakistan gdp per capita is672.1547506\n",
      "Peru gdp per capita is3359.517402\n",
      "Qatar gdp per capita is36152.66676\n",
      "Russia gdp per capita is3054.727742\n",
      "Singapore gdp per capita is33529.83052\n",
      "South Africa gdp per capita is3825.093781\n",
      "Spain gdp per capita is15428.32098\n",
      "Sweden gdp per capita is33630.24604\n",
      "Switzerland gdp per capita is39170.41371\n",
      "Thailand gdp per capita is2699.123242\n",
      "United Arab Emirates gdp per capita is21058.43643\n",
      "United Kingdom gdp per capita is28272.40661\n",
      "United States gdp per capita is37691.02733\n",
      "Uruguay gdp per capita is9581.05659\n",
      "Venezuela gdp per capita is5671.912202\n",
      "Vietnam gdp per capita is757.4009286\n",
      "Zimbabwe gdp per capita is347.7456605\n"
     ]
    }
   ],
   "source": [
    "#Use a for loop to print the required list of countries with their gdps\n",
    "for i in range(len(list_of_countries)):\n",
    "    country = list_of_countries[i]\n",
    "    country_gdp_per_capita = gdp_values[i]\n",
    "    print('{} gdp per capita is{}'.format(country,country_gdp_per_capita))"
   ]
  },
  {
   "cell_type": "code",
   "execution_count": 26,
   "id": "1adbbf62",
   "metadata": {},
   "outputs": [
    {
     "name": "stdout",
     "output_type": "stream",
     "text": [
      "229.6769525\n",
      "40034.85063\n",
      "11289.409271639683\n",
      "12743.828910617945\n",
      "711232.7841133\n"
     ]
    }
   ],
   "source": [
    "#Highest GPD value\n",
    "#Lowest GDP value\n",
    "#Mean GDP value\n",
    "#Standardized GDP value\n",
    "#Sum of all the GDPs\n",
    "print(gdp_values.min())\n",
    "print(gdp_values.max())\n",
    "print(gdp_values.mean())\n",
    "print(gdp_values.std())\n",
    "print(gdp_values.sum())"
   ]
  },
  {
   "cell_type": "code",
   "execution_count": null,
   "id": "634189b2",
   "metadata": {},
   "outputs": [],
   "source": []
  }
 ],
 "metadata": {
  "kernelspec": {
   "display_name": "Python 3 (ipykernel)",
   "language": "python",
   "name": "python3"
  },
  "language_info": {
   "codemirror_mode": {
    "name": "ipython",
    "version": 3
   },
   "file_extension": ".py",
   "mimetype": "text/x-python",
   "name": "python",
   "nbconvert_exporter": "python",
   "pygments_lexer": "ipython3",
   "version": "3.9.7"
  }
 },
 "nbformat": 4,
 "nbformat_minor": 5
}
