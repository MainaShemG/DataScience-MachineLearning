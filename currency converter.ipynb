{
 "cells": [
  {
   "cell_type": "code",
   "execution_count": 1,
   "id": "2a8acaee",
   "metadata": {},
   "outputs": [
    {
     "name": "stdout",
     "output_type": "stream",
     "text": [
      "Collecting forex_python\n",
      "  Downloading forex_python-1.8-py3-none-any.whl (8.2 kB)\n",
      "Requirement already satisfied: requests in /home/shemaya/anaconda3/lib/python3.10/site-packages (from forex_python) (2.28.1)\n",
      "Collecting simplejson\n",
      "  Downloading simplejson-3.19.1-cp310-cp310-manylinux_2_5_x86_64.manylinux1_x86_64.manylinux_2_17_x86_64.manylinux2014_x86_64.whl (137 kB)\n",
      "\u001b[2K     \u001b[38;2;114;156;31m━━━━━━━━━━━━━━━━━━━━━━━━━━━━━━━━━━━━━\u001b[0m \u001b[32m137.9/137.9 kB\u001b[0m \u001b[31m254.3 kB/s\u001b[0m eta \u001b[36m0:00:00\u001b[0m1m235.7 kB/s\u001b[0m eta \u001b[36m0:00:01\u001b[0m\n",
      "\u001b[?25hRequirement already satisfied: certifi>=2017.4.17 in /home/shemaya/anaconda3/lib/python3.10/site-packages (from requests->forex_python) (2022.12.7)\n",
      "Requirement already satisfied: urllib3<1.27,>=1.21.1 in /home/shemaya/anaconda3/lib/python3.10/site-packages (from requests->forex_python) (1.26.14)\n",
      "Requirement already satisfied: idna<4,>=2.5 in /home/shemaya/anaconda3/lib/python3.10/site-packages (from requests->forex_python) (3.4)\n",
      "Requirement already satisfied: charset-normalizer<3,>=2 in /home/shemaya/anaconda3/lib/python3.10/site-packages (from requests->forex_python) (2.0.4)\n",
      "Installing collected packages: simplejson, forex_python\n",
      "Successfully installed forex_python-1.8 simplejson-3.19.1\n"
     ]
    }
   ],
   "source": [
    "!pip install forex_python"
   ]
  },
  {
   "cell_type": "code",
   "execution_count": 3,
   "id": "a199ea02",
   "metadata": {},
   "outputs": [
    {
     "name": "stdout",
     "output_type": "stream",
     "text": [
      "Enter the amount:80\n",
      "From Currency: usd\n",
      "To Currency: ksh\n",
      "USD To KSH 80\n"
     ]
    },
    {
     "ename": "RatesNotAvailableError",
     "evalue": "Currency https://theforexapi.com/api/latest => KSH rate not available for Date latest.",
     "output_type": "error",
     "traceback": [
      "\u001b[0;31m---------------------------------------------------------------------------\u001b[0m",
      "\u001b[0;31mRatesNotAvailableError\u001b[0m                    Traceback (most recent call last)",
      "Cell \u001b[0;32mIn[3], line 8\u001b[0m\n\u001b[1;32m      5\u001b[0m to_currency \u001b[38;5;241m=\u001b[39m \u001b[38;5;28minput\u001b[39m(\u001b[38;5;124m\"\u001b[39m\u001b[38;5;124mTo Currency: \u001b[39m\u001b[38;5;124m\"\u001b[39m)\u001b[38;5;241m.\u001b[39mupper()\n\u001b[1;32m      7\u001b[0m \u001b[38;5;28mprint\u001b[39m(from_currency, \u001b[38;5;124m\"\u001b[39m\u001b[38;5;124mTo\u001b[39m\u001b[38;5;124m\"\u001b[39m, to_currency, amount)\n\u001b[0;32m----> 8\u001b[0m result \u001b[38;5;241m=\u001b[39m \u001b[43mc\u001b[49m\u001b[38;5;241;43m.\u001b[39;49m\u001b[43mconvert\u001b[49m\u001b[43m(\u001b[49m\u001b[43mfrom_currency\u001b[49m\u001b[43m,\u001b[49m\u001b[43m \u001b[49m\u001b[43mto_currency\u001b[49m\u001b[43m,\u001b[49m\u001b[43m \u001b[49m\u001b[43mamount\u001b[49m\u001b[43m)\u001b[49m\n\u001b[1;32m      9\u001b[0m \u001b[38;5;28mprint\u001b[39m(result)\n",
      "File \u001b[0;32m~/anaconda3/lib/python3.10/site-packages/forex_python/converter.py:100\u001b[0m, in \u001b[0;36mCurrencyRates.convert\u001b[0;34m(self, base_cur, dest_cur, amount, date_obj)\u001b[0m\n\u001b[1;32m     97\u001b[0m rate \u001b[38;5;241m=\u001b[39m \u001b[38;5;28mself\u001b[39m\u001b[38;5;241m.\u001b[39m_get_decoded_rate(\n\u001b[1;32m     98\u001b[0m     response, dest_cur, use_decimal\u001b[38;5;241m=\u001b[39muse_decimal, date_str\u001b[38;5;241m=\u001b[39mdate_str)\n\u001b[1;32m     99\u001b[0m \u001b[38;5;28;01mif\u001b[39;00m \u001b[38;5;129;01mnot\u001b[39;00m rate:\n\u001b[0;32m--> 100\u001b[0m     \u001b[38;5;28;01mraise\u001b[39;00m RatesNotAvailableError(\u001b[38;5;124m\"\u001b[39m\u001b[38;5;124mCurrency \u001b[39m\u001b[38;5;132;01m{0}\u001b[39;00m\u001b[38;5;124m => \u001b[39m\u001b[38;5;132;01m{1}\u001b[39;00m\u001b[38;5;124m rate not available for Date \u001b[39m\u001b[38;5;132;01m{2}\u001b[39;00m\u001b[38;5;124m.\u001b[39m\u001b[38;5;124m\"\u001b[39m\u001b[38;5;241m.\u001b[39mformat(\n\u001b[1;32m    101\u001b[0m         source_url, dest_cur, date_str))\n\u001b[1;32m    102\u001b[0m \u001b[38;5;28;01mtry\u001b[39;00m:\n\u001b[1;32m    103\u001b[0m     converted_amount \u001b[38;5;241m=\u001b[39m rate \u001b[38;5;241m*\u001b[39m amount\n",
      "\u001b[0;31mRatesNotAvailableError\u001b[0m: Currency https://theforexapi.com/api/latest => KSH rate not available for Date latest."
     ]
    }
   ],
   "source": [
    "from forex_python.converter import CurrencyRates\n",
    "c=CurrencyRates()\n",
    "amount= int(input(\"Enter the amount:\"))\n",
    "from_currency= input(\"From Currency: \").upper()\n",
    "to_currency = input(\"To Currency: \").upper()\n",
    "\n",
    "print(from_currency, \"To\", to_currency, amount)\n",
    "result = c.convert(from_currency, to_currency, amount)\n",
    "print(result)"
   ]
  },
  {
   "cell_type": "code",
   "execution_count": null,
   "id": "eb6db020",
   "metadata": {},
   "outputs": [],
   "source": []
  }
 ],
 "metadata": {
  "kernelspec": {
   "display_name": "Python 3 (ipykernel)",
   "language": "python",
   "name": "python3"
  },
  "language_info": {
   "codemirror_mode": {
    "name": "ipython",
    "version": 3
   },
   "file_extension": ".py",
   "mimetype": "text/x-python",
   "name": "python",
   "nbconvert_exporter": "python",
   "pygments_lexer": "ipython3",
   "version": "3.10.9"
  }
 },
 "nbformat": 4,
 "nbformat_minor": 5
}
