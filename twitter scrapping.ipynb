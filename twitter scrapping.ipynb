{
 "cells": [
  {
   "cell_type": "code",
   "execution_count": 2,
   "id": "3d1786c6",
   "metadata": {},
   "outputs": [
    {
     "name": "stdout",
     "output_type": "stream",
     "text": [
      "Collecting snscrape\n",
      "  Downloading snscrape-0.7.0.20230622-py3-none-any.whl (74 kB)\n",
      "\u001b[2K     \u001b[38;2;114;156;31m━━━━━━━━━━━━━━━━━━━━━━━━━━━━━━━━━━━━━━━\u001b[0m \u001b[32m74.8/74.8 kB\u001b[0m \u001b[31m736.4 kB/s\u001b[0m eta \u001b[36m0:00:00\u001b[0m kB/s\u001b[0m eta \u001b[36m0:00:01\u001b[0m\n",
      "\u001b[?25hRequirement already satisfied: requests[socks] in /home/shemaya/anaconda3/lib/python3.10/site-packages (from snscrape) (2.28.1)\n",
      "Requirement already satisfied: beautifulsoup4 in /home/shemaya/anaconda3/lib/python3.10/site-packages (from snscrape) (4.11.1)\n",
      "Requirement already satisfied: filelock in /home/shemaya/anaconda3/lib/python3.10/site-packages (from snscrape) (3.9.0)\n",
      "Requirement already satisfied: lxml in /home/shemaya/anaconda3/lib/python3.10/site-packages (from snscrape) (4.9.1)\n",
      "Requirement already satisfied: soupsieve>1.2 in /home/shemaya/anaconda3/lib/python3.10/site-packages (from beautifulsoup4->snscrape) (2.3.2.post1)\n",
      "Requirement already satisfied: certifi>=2017.4.17 in /home/shemaya/anaconda3/lib/python3.10/site-packages (from requests[socks]->snscrape) (2022.12.7)\n",
      "Requirement already satisfied: urllib3<1.27,>=1.21.1 in /home/shemaya/anaconda3/lib/python3.10/site-packages (from requests[socks]->snscrape) (1.26.14)\n",
      "Requirement already satisfied: charset-normalizer<3,>=2 in /home/shemaya/anaconda3/lib/python3.10/site-packages (from requests[socks]->snscrape) (2.0.4)\n",
      "Requirement already satisfied: idna<4,>=2.5 in /home/shemaya/anaconda3/lib/python3.10/site-packages (from requests[socks]->snscrape) (3.4)\n",
      "Requirement already satisfied: PySocks!=1.5.7,>=1.5.6 in /home/shemaya/anaconda3/lib/python3.10/site-packages (from requests[socks]->snscrape) (1.7.1)\n",
      "Installing collected packages: snscrape\n",
      "Successfully installed snscrape-0.7.0.20230622\n"
     ]
    }
   ],
   "source": [
    "!pip install snscrape"
   ]
  },
  {
   "cell_type": "code",
   "execution_count": 3,
   "id": "90f72d35",
   "metadata": {
    "scrolled": true
   },
   "outputs": [],
   "source": [
    "import snscrape.modules.twitter as sntwitter\n",
    "import pandas as pd"
   ]
  },
  {
   "cell_type": "code",
   "execution_count": 4,
   "id": "3502cdea",
   "metadata": {},
   "outputs": [],
   "source": [
    "query = \"(from:elonmusk) until:2020-01-01 since:2010-01-01\"\n",
    "tweets = []\n",
    "limit = 5000"
   ]
  },
  {
   "cell_type": "code",
   "execution_count": 1,
   "id": "93067ebf",
   "metadata": {},
   "outputs": [
    {
     "name": "stdout",
     "output_type": "stream",
     "text": [
      "Collecting tweety-ns\n",
      "  Downloading tweety_ns-0.9-py3-none-any.whl (34 kB)\n",
      "Collecting httpx\n",
      "  Downloading httpx-0.24.1-py3-none-any.whl (75 kB)\n",
      "\u001b[2K     \u001b[38;2;114;156;31m━━━━━━━━━━━━━━━━━━━━━━━━━━━━━━━━━━━━━━━\u001b[0m \u001b[32m75.4/75.4 kB\u001b[0m \u001b[31m341.5 kB/s\u001b[0m eta \u001b[36m0:00:00\u001b[0m1m464.9 kB/s\u001b[0m eta \u001b[36m0:00:01\u001b[0m\n",
      "\u001b[?25hCollecting dateutils\n",
      "  Downloading dateutils-0.6.12-py2.py3-none-any.whl (5.7 kB)\n",
      "Requirement already satisfied: tqdm in /home/shemaya/anaconda3/lib/python3.10/site-packages (from tweety-ns) (4.64.1)\n",
      "Requirement already satisfied: beautifulsoup4 in /home/shemaya/anaconda3/lib/python3.10/site-packages (from tweety-ns) (4.11.1)\n",
      "Requirement already satisfied: openpyxl in /home/shemaya/anaconda3/lib/python3.10/site-packages (from tweety-ns) (3.0.10)\n",
      "Requirement already satisfied: soupsieve>1.2 in /home/shemaya/anaconda3/lib/python3.10/site-packages (from beautifulsoup4->tweety-ns) (2.3.2.post1)\n",
      "Requirement already satisfied: pytz in /home/shemaya/anaconda3/lib/python3.10/site-packages (from dateutils->tweety-ns) (2022.7)\n",
      "Requirement already satisfied: python-dateutil in /home/shemaya/anaconda3/lib/python3.10/site-packages (from dateutils->tweety-ns) (2.8.2)\n",
      "Requirement already satisfied: idna in /home/shemaya/anaconda3/lib/python3.10/site-packages (from httpx->tweety-ns) (3.4)\n",
      "Requirement already satisfied: sniffio in /home/shemaya/anaconda3/lib/python3.10/site-packages (from httpx->tweety-ns) (1.2.0)\n",
      "Requirement already satisfied: certifi in /home/shemaya/anaconda3/lib/python3.10/site-packages (from httpx->tweety-ns) (2022.12.7)\n",
      "Collecting httpcore<0.18.0,>=0.15.0\n",
      "  Downloading httpcore-0.17.3-py3-none-any.whl (74 kB)\n",
      "\u001b[2K     \u001b[38;2;114;156;31m━━━━━━━━━━━━━━━━━━━━━━━━━━━━━━━━━━━━━━━━\u001b[0m \u001b[32m74.5/74.5 kB\u001b[0m \u001b[31m1.3 MB/s\u001b[0m eta \u001b[36m0:00:00\u001b[0m[31m1.3 MB/s\u001b[0m eta \u001b[36m0:00:01\u001b[0m\n",
      "\u001b[?25hRequirement already satisfied: et_xmlfile in /home/shemaya/anaconda3/lib/python3.10/site-packages (from openpyxl->tweety-ns) (1.1.0)\n",
      "Requirement already satisfied: anyio<5.0,>=3.0 in /home/shemaya/anaconda3/lib/python3.10/site-packages (from httpcore<0.18.0,>=0.15.0->httpx->tweety-ns) (3.5.0)\n",
      "Collecting h11<0.15,>=0.13\n",
      "  Downloading h11-0.14.0-py3-none-any.whl (58 kB)\n",
      "\u001b[2K     \u001b[38;2;114;156;31m━━━━━━━━━━━━━━━━━━━━━━━━━━━━━━━━━━━━━━━\u001b[0m \u001b[32m58.3/58.3 kB\u001b[0m \u001b[31m971.6 kB/s\u001b[0m eta \u001b[36m0:00:00\u001b[0m1m794.6 kB/s\u001b[0m eta \u001b[36m0:00:01\u001b[0m\n",
      "\u001b[?25hRequirement already satisfied: six>=1.5 in /home/shemaya/anaconda3/lib/python3.10/site-packages (from python-dateutil->dateutils->tweety-ns) (1.16.0)\n",
      "Installing collected packages: h11, httpcore, dateutils, httpx, tweety-ns\n",
      "Successfully installed dateutils-0.6.12 h11-0.14.0 httpcore-0.17.3 httpx-0.24.1 tweety-ns-0.9\n"
     ]
    }
   ],
   "source": [
    "!pip install tweety-ns"
   ]
  },
  {
   "cell_type": "code",
   "execution_count": 2,
   "id": "b0df26bf",
   "metadata": {},
   "outputs": [
    {
     "name": "stdout",
     "output_type": "stream",
     "text": [
      "Collecting https://github.com/mahrtayyab/tweety/archive/main.zip\n",
      "  Downloading https://github.com/mahrtayyab/tweety/archive/main.zip\n",
      "\u001b[2K     \u001b[32m\\\u001b[0m \u001b[32m55.1 kB\u001b[0m \u001b[31m112.5 kB/s\u001b[0m \u001b[33m0:00:00\u001b[0m\n",
      "\u001b[?25h  Installing build dependencies ... \u001b[?25ldone\n",
      "\u001b[?25h  Getting requirements to build wheel ... \u001b[?25ldone\n",
      "\u001b[?25h  Preparing metadata (pyproject.toml) ... \u001b[?25ldone\n",
      "\u001b[?25hRequirement already satisfied: tqdm in /home/shemaya/anaconda3/lib/python3.10/site-packages (from tweety-ns==0.9) (4.64.1)\n",
      "Requirement already satisfied: openpyxl in /home/shemaya/anaconda3/lib/python3.10/site-packages (from tweety-ns==0.9) (3.0.10)\n",
      "Requirement already satisfied: dateutils in /home/shemaya/anaconda3/lib/python3.10/site-packages (from tweety-ns==0.9) (0.6.12)\n",
      "Requirement already satisfied: beautifulsoup4 in /home/shemaya/anaconda3/lib/python3.10/site-packages (from tweety-ns==0.9) (4.11.1)\n",
      "Requirement already satisfied: httpx in /home/shemaya/anaconda3/lib/python3.10/site-packages (from tweety-ns==0.9) (0.24.1)\n",
      "Requirement already satisfied: soupsieve>1.2 in /home/shemaya/anaconda3/lib/python3.10/site-packages (from beautifulsoup4->tweety-ns==0.9) (2.3.2.post1)\n",
      "Requirement already satisfied: python-dateutil in /home/shemaya/anaconda3/lib/python3.10/site-packages (from dateutils->tweety-ns==0.9) (2.8.2)\n",
      "Requirement already satisfied: pytz in /home/shemaya/anaconda3/lib/python3.10/site-packages (from dateutils->tweety-ns==0.9) (2022.7)\n",
      "Requirement already satisfied: idna in /home/shemaya/anaconda3/lib/python3.10/site-packages (from httpx->tweety-ns==0.9) (3.4)\n",
      "Requirement already satisfied: certifi in /home/shemaya/anaconda3/lib/python3.10/site-packages (from httpx->tweety-ns==0.9) (2022.12.7)\n",
      "Requirement already satisfied: sniffio in /home/shemaya/anaconda3/lib/python3.10/site-packages (from httpx->tweety-ns==0.9) (1.2.0)\n",
      "Requirement already satisfied: httpcore<0.18.0,>=0.15.0 in /home/shemaya/anaconda3/lib/python3.10/site-packages (from httpx->tweety-ns==0.9) (0.17.3)\n",
      "Requirement already satisfied: et_xmlfile in /home/shemaya/anaconda3/lib/python3.10/site-packages (from openpyxl->tweety-ns==0.9) (1.1.0)\n",
      "Requirement already satisfied: anyio<5.0,>=3.0 in /home/shemaya/anaconda3/lib/python3.10/site-packages (from httpcore<0.18.0,>=0.15.0->httpx->tweety-ns==0.9) (3.5.0)\n",
      "Requirement already satisfied: h11<0.15,>=0.13 in /home/shemaya/anaconda3/lib/python3.10/site-packages (from httpcore<0.18.0,>=0.15.0->httpx->tweety-ns==0.9) (0.14.0)\n",
      "Requirement already satisfied: six>=1.5 in /home/shemaya/anaconda3/lib/python3.10/site-packages (from python-dateutil->dateutils->tweety-ns==0.9) (1.16.0)\n"
     ]
    }
   ],
   "source": [
    "!pip install https://github.com/mahrtayyab/tweety/archive/main.zip --upgrade "
   ]
  },
  {
   "cell_type": "code",
   "execution_count": 11,
   "id": "cf41d243",
   "metadata": {},
   "outputs": [
    {
     "ename": "TypeError",
     "evalue": "BotMethods.__init__() missing 1 required positional argument: 'session_name'",
     "output_type": "error",
     "traceback": [
      "\u001b[0;31m---------------------------------------------------------------------------\u001b[0m",
      "\u001b[0;31mTypeError\u001b[0m                                 Traceback (most recent call last)",
      "Cell \u001b[0;32mIn[11], line 3\u001b[0m\n\u001b[1;32m      1\u001b[0m \u001b[38;5;28;01mfrom\u001b[39;00m \u001b[38;5;21;01mtweety\u001b[39;00m \u001b[38;5;28;01mimport\u001b[39;00m Twitter\n\u001b[0;32m----> 3\u001b[0m app \u001b[38;5;241m=\u001b[39m \u001b[43mTwitter\u001b[49m\u001b[43m(\u001b[49m\u001b[43m)\u001b[49m\n\u001b[1;32m      5\u001b[0m all_tweets \u001b[38;5;241m=\u001b[39m app\u001b[38;5;241m.\u001b[39mget_tweets(\u001b[38;5;124m\"\u001b[39m\u001b[38;5;124melonmusk\u001b[39m\u001b[38;5;124m\"\u001b[39m)\n\u001b[1;32m      6\u001b[0m \u001b[38;5;28;01mfor\u001b[39;00m tweet \u001b[38;5;129;01min\u001b[39;00m all_tweets:\n",
      "\u001b[0;31mTypeError\u001b[0m: BotMethods.__init__() missing 1 required positional argument: 'session_name'"
     ]
    }
   ],
   "source": [
    "from tweety import Twitter\n",
    "  \n",
    "app = Twitter()\n",
    "  \n",
    "all_tweets = app.get_tweets(\"elonmusk\")\n",
    "for tweet in all_tweets:\n",
    "      print(tweet)"
   ]
  },
  {
   "cell_type": "code",
   "execution_count": 12,
   "id": "ff4cff92",
   "metadata": {},
   "outputs": [
    {
     "ename": "KeyError",
     "evalue": "'user'",
     "output_type": "error",
     "traceback": [
      "\u001b[0;31m---------------------------------------------------------------------------\u001b[0m",
      "\u001b[0;31mKeyError\u001b[0m                                  Traceback (most recent call last)",
      "Cell \u001b[0;32mIn[12], line 3\u001b[0m\n\u001b[1;32m      1\u001b[0m \u001b[38;5;28;01mfrom\u001b[39;00m \u001b[38;5;21;01mtweety\u001b[39;00m \u001b[38;5;28;01mimport\u001b[39;00m Twitter\n\u001b[0;32m----> 3\u001b[0m app \u001b[38;5;241m=\u001b[39m \u001b[43mTwitter\u001b[49m\u001b[43m(\u001b[49m\u001b[38;5;124;43m\"\u001b[39;49m\u001b[38;5;124;43msession\u001b[39;49m\u001b[38;5;124;43m\"\u001b[39;49m\u001b[43m)\u001b[49m\n\u001b[1;32m      4\u001b[0m app\u001b[38;5;241m.\u001b[39msign_in(username, password)\n\u001b[1;32m      6\u001b[0m all_tweets \u001b[38;5;241m=\u001b[39m app\u001b[38;5;241m.\u001b[39mget_tweets(\u001b[38;5;124m\"\u001b[39m\u001b[38;5;124melonmusk\u001b[39m\u001b[38;5;124m\"\u001b[39m)\n",
      "File \u001b[0;32m~/anaconda3/lib/python3.10/site-packages/tweety/bot.py:38\u001b[0m, in \u001b[0;36mBotMethods.__init__\u001b[0;34m(self, session_name, proxy)\u001b[0m\n\u001b[1;32m     30\u001b[0m \u001b[38;5;124;03m\"\"\"\u001b[39;00m\n\u001b[1;32m     31\u001b[0m \u001b[38;5;124;03mConstructor of the Twitter Public class\u001b[39;00m\n\u001b[1;32m     32\u001b[0m \n\u001b[1;32m     33\u001b[0m \u001b[38;5;124;03m:param session_name: (`str`, `Session`) This is the name of the session which will be saved and can be loaded later\u001b[39;00m\n\u001b[1;32m     34\u001b[0m \u001b[38;5;124;03m:param proxy: (`dict` or `Proxy`) Provide the proxy you want to use while making a request\u001b[39;00m\n\u001b[1;32m     35\u001b[0m \u001b[38;5;124;03m\"\"\"\u001b[39;00m\n\u001b[1;32m     37\u001b[0m \u001b[38;5;28mself\u001b[39m\u001b[38;5;241m.\u001b[39m_event_builders \u001b[38;5;241m=\u001b[39m []\n\u001b[0;32m---> 38\u001b[0m \u001b[38;5;28mself\u001b[39m\u001b[38;5;241m.\u001b[39msession \u001b[38;5;241m=\u001b[39m \u001b[43mSession\u001b[49m\u001b[43m(\u001b[49m\u001b[43msession_name\u001b[49m\u001b[43m)\u001b[49m \u001b[38;5;28;01mif\u001b[39;00m \u001b[38;5;28misinstance\u001b[39m(session_name, \u001b[38;5;28mstr\u001b[39m) \u001b[38;5;28;01melse\u001b[39;00m session_name\n\u001b[1;32m     39\u001b[0m \u001b[38;5;28mself\u001b[39m\u001b[38;5;241m.\u001b[39mlogged_in \u001b[38;5;241m=\u001b[39m \u001b[38;5;28;01mFalse\u001b[39;00m\n\u001b[1;32m     40\u001b[0m \u001b[38;5;28mself\u001b[39m\u001b[38;5;241m.\u001b[39mrequest \u001b[38;5;241m=\u001b[39m Request(max_retries\u001b[38;5;241m=\u001b[39m\u001b[38;5;241m10\u001b[39m, proxy\u001b[38;5;241m=\u001b[39mproxy)\n",
      "File \u001b[0;32m~/anaconda3/lib/python3.10/site-packages/tweety/session.py:12\u001b[0m, in \u001b[0;36mSession.__init__\u001b[0;34m(self, session_name)\u001b[0m\n\u001b[1;32m     10\u001b[0m \u001b[38;5;28mself\u001b[39m\u001b[38;5;241m.\u001b[39mlogged_in \u001b[38;5;241m=\u001b[39m \u001b[38;5;28;01mFalse\u001b[39;00m\n\u001b[1;32m     11\u001b[0m \u001b[38;5;28mself\u001b[39m\u001b[38;5;241m.\u001b[39mcookies \u001b[38;5;241m=\u001b[39m \u001b[38;5;124m\"\u001b[39m\u001b[38;5;124m\"\u001b[39m\n\u001b[0;32m---> 12\u001b[0m \u001b[38;5;28;43mself\u001b[39;49m\u001b[38;5;241;43m.\u001b[39;49m\u001b[43m_load_session\u001b[49m\u001b[43m(\u001b[49m\u001b[43m)\u001b[49m\n",
      "File \u001b[0;32m~/anaconda3/lib/python3.10/site-packages/tweety/session.py:19\u001b[0m, in \u001b[0;36mSession._load_session\u001b[0;34m(self)\u001b[0m\n\u001b[1;32m     17\u001b[0m     session_data \u001b[38;5;241m=\u001b[39m json\u001b[38;5;241m.\u001b[39mload(f)\n\u001b[1;32m     18\u001b[0m     \u001b[38;5;28mself\u001b[39m\u001b[38;5;241m.\u001b[39mcookies \u001b[38;5;241m=\u001b[39m session_data[\u001b[38;5;124m'\u001b[39m\u001b[38;5;124mcookies\u001b[39m\u001b[38;5;124m'\u001b[39m]\n\u001b[0;32m---> 19\u001b[0m     \u001b[38;5;28mself\u001b[39m\u001b[38;5;241m.\u001b[39muser \u001b[38;5;241m=\u001b[39m \u001b[43msession_data\u001b[49m\u001b[43m[\u001b[49m\u001b[38;5;124;43m'\u001b[39;49m\u001b[38;5;124;43muser\u001b[39;49m\u001b[38;5;124;43m'\u001b[39;49m\u001b[43m]\u001b[49m\n\u001b[1;32m     21\u001b[0m \u001b[38;5;28mself\u001b[39m\u001b[38;5;241m.\u001b[39mlogged_in \u001b[38;5;241m=\u001b[39m \u001b[38;5;28;01mTrue\u001b[39;00m\n",
      "\u001b[0;31mKeyError\u001b[0m: 'user'"
     ]
    }
   ],
   "source": [
    "from tweety import Twitter\n",
    "\n",
    "app = Twitter(\"session\")\n",
    "app.sign_in(username, password)\n",
    "\n",
    "all_tweets = app.get_tweets(\"elonmusk\")\n",
    "for tweet in all_tweets:\n",
    "    print(tweet)"
   ]
  },
  {
   "cell_type": "code",
   "execution_count": 13,
   "id": "f18cbe53",
   "metadata": {},
   "outputs": [
    {
     "ename": "KeyError",
     "evalue": "'user'",
     "output_type": "error",
     "traceback": [
      "\u001b[0;31m---------------------------------------------------------------------------\u001b[0m",
      "\u001b[0;31mKeyError\u001b[0m                                  Traceback (most recent call last)",
      "Cell \u001b[0;32mIn[13], line 3\u001b[0m\n\u001b[1;32m      1\u001b[0m \u001b[38;5;28;01mfrom\u001b[39;00m \u001b[38;5;21;01mtweety\u001b[39;00m \u001b[38;5;28;01mimport\u001b[39;00m Twitter\n\u001b[0;32m----> 3\u001b[0m app \u001b[38;5;241m=\u001b[39m \u001b[43mTwitter\u001b[49m\u001b[43m(\u001b[49m\u001b[38;5;124;43m\"\u001b[39;49m\u001b[38;5;124;43msession\u001b[39;49m\u001b[38;5;124;43m\"\u001b[39;49m\u001b[43m)\u001b[49m\n\u001b[1;32m      4\u001b[0m app\u001b[38;5;241m.\u001b[39msign_in(username, password)\n\u001b[1;32m      5\u001b[0m target_username \u001b[38;5;241m=\u001b[39m \u001b[38;5;124m\"\u001b[39m\u001b[38;5;124melonmusk\u001b[39m\u001b[38;5;124m\"\u001b[39m\n",
      "File \u001b[0;32m~/anaconda3/lib/python3.10/site-packages/tweety/bot.py:38\u001b[0m, in \u001b[0;36mBotMethods.__init__\u001b[0;34m(self, session_name, proxy)\u001b[0m\n\u001b[1;32m     30\u001b[0m \u001b[38;5;124;03m\"\"\"\u001b[39;00m\n\u001b[1;32m     31\u001b[0m \u001b[38;5;124;03mConstructor of the Twitter Public class\u001b[39;00m\n\u001b[1;32m     32\u001b[0m \n\u001b[1;32m     33\u001b[0m \u001b[38;5;124;03m:param session_name: (`str`, `Session`) This is the name of the session which will be saved and can be loaded later\u001b[39;00m\n\u001b[1;32m     34\u001b[0m \u001b[38;5;124;03m:param proxy: (`dict` or `Proxy`) Provide the proxy you want to use while making a request\u001b[39;00m\n\u001b[1;32m     35\u001b[0m \u001b[38;5;124;03m\"\"\"\u001b[39;00m\n\u001b[1;32m     37\u001b[0m \u001b[38;5;28mself\u001b[39m\u001b[38;5;241m.\u001b[39m_event_builders \u001b[38;5;241m=\u001b[39m []\n\u001b[0;32m---> 38\u001b[0m \u001b[38;5;28mself\u001b[39m\u001b[38;5;241m.\u001b[39msession \u001b[38;5;241m=\u001b[39m \u001b[43mSession\u001b[49m\u001b[43m(\u001b[49m\u001b[43msession_name\u001b[49m\u001b[43m)\u001b[49m \u001b[38;5;28;01mif\u001b[39;00m \u001b[38;5;28misinstance\u001b[39m(session_name, \u001b[38;5;28mstr\u001b[39m) \u001b[38;5;28;01melse\u001b[39;00m session_name\n\u001b[1;32m     39\u001b[0m \u001b[38;5;28mself\u001b[39m\u001b[38;5;241m.\u001b[39mlogged_in \u001b[38;5;241m=\u001b[39m \u001b[38;5;28;01mFalse\u001b[39;00m\n\u001b[1;32m     40\u001b[0m \u001b[38;5;28mself\u001b[39m\u001b[38;5;241m.\u001b[39mrequest \u001b[38;5;241m=\u001b[39m Request(max_retries\u001b[38;5;241m=\u001b[39m\u001b[38;5;241m10\u001b[39m, proxy\u001b[38;5;241m=\u001b[39mproxy)\n",
      "File \u001b[0;32m~/anaconda3/lib/python3.10/site-packages/tweety/session.py:12\u001b[0m, in \u001b[0;36mSession.__init__\u001b[0;34m(self, session_name)\u001b[0m\n\u001b[1;32m     10\u001b[0m \u001b[38;5;28mself\u001b[39m\u001b[38;5;241m.\u001b[39mlogged_in \u001b[38;5;241m=\u001b[39m \u001b[38;5;28;01mFalse\u001b[39;00m\n\u001b[1;32m     11\u001b[0m \u001b[38;5;28mself\u001b[39m\u001b[38;5;241m.\u001b[39mcookies \u001b[38;5;241m=\u001b[39m \u001b[38;5;124m\"\u001b[39m\u001b[38;5;124m\"\u001b[39m\n\u001b[0;32m---> 12\u001b[0m \u001b[38;5;28;43mself\u001b[39;49m\u001b[38;5;241;43m.\u001b[39;49m\u001b[43m_load_session\u001b[49m\u001b[43m(\u001b[49m\u001b[43m)\u001b[49m\n",
      "File \u001b[0;32m~/anaconda3/lib/python3.10/site-packages/tweety/session.py:19\u001b[0m, in \u001b[0;36mSession._load_session\u001b[0;34m(self)\u001b[0m\n\u001b[1;32m     17\u001b[0m     session_data \u001b[38;5;241m=\u001b[39m json\u001b[38;5;241m.\u001b[39mload(f)\n\u001b[1;32m     18\u001b[0m     \u001b[38;5;28mself\u001b[39m\u001b[38;5;241m.\u001b[39mcookies \u001b[38;5;241m=\u001b[39m session_data[\u001b[38;5;124m'\u001b[39m\u001b[38;5;124mcookies\u001b[39m\u001b[38;5;124m'\u001b[39m]\n\u001b[0;32m---> 19\u001b[0m     \u001b[38;5;28mself\u001b[39m\u001b[38;5;241m.\u001b[39muser \u001b[38;5;241m=\u001b[39m \u001b[43msession_data\u001b[49m\u001b[43m[\u001b[49m\u001b[38;5;124;43m'\u001b[39;49m\u001b[38;5;124;43muser\u001b[39;49m\u001b[38;5;124;43m'\u001b[39;49m\u001b[43m]\u001b[49m\n\u001b[1;32m     21\u001b[0m \u001b[38;5;28mself\u001b[39m\u001b[38;5;241m.\u001b[39mlogged_in \u001b[38;5;241m=\u001b[39m \u001b[38;5;28;01mTrue\u001b[39;00m\n",
      "\u001b[0;31mKeyError\u001b[0m: 'user'"
     ]
    }
   ],
   "source": [
    "from tweety import Twitter\n",
    "\n",
    "app = Twitter(\"session\")\n",
    "app.sign_in(username, password)\n",
    "target_username = \"elonmusk\"\n",
    "\n",
    "user = app.get_user_info(target_username)\n",
    "all_tweets = app.get_tweets(user)\n",
    "\n",
    "for tweet in all_tweets:\n",
    "    print(tweet)"
   ]
  },
  {
   "cell_type": "code",
   "execution_count": 14,
   "id": "f429e5dd",
   "metadata": {},
   "outputs": [
    {
     "ename": "KeyError",
     "evalue": "'user'",
     "output_type": "error",
     "traceback": [
      "\u001b[0;31m---------------------------------------------------------------------------\u001b[0m",
      "\u001b[0;31mKeyError\u001b[0m                                  Traceback (most recent call last)",
      "Cell \u001b[0;32mIn[14], line 6\u001b[0m\n\u001b[1;32m      3\u001b[0m username \u001b[38;5;241m=\u001b[39m \u001b[38;5;124m'\u001b[39m\u001b[38;5;124mshemaya_55\u001b[39m\u001b[38;5;124m'\u001b[39m\n\u001b[1;32m      4\u001b[0m password\u001b[38;5;241m=\u001b[39m \u001b[38;5;124m'\u001b[39m\u001b[38;5;124m08237057005\u001b[39m\u001b[38;5;124m'\u001b[39m\n\u001b[0;32m----> 6\u001b[0m app \u001b[38;5;241m=\u001b[39m \u001b[43mTwitter\u001b[49m\u001b[43m(\u001b[49m\u001b[38;5;124;43m\"\u001b[39;49m\u001b[38;5;124;43msession\u001b[39;49m\u001b[38;5;124;43m\"\u001b[39;49m\u001b[43m)\u001b[49m\n\u001b[1;32m      7\u001b[0m app\u001b[38;5;241m.\u001b[39msign_in(username, password)\n\u001b[1;32m      8\u001b[0m \u001b[38;5;28mprint\u001b[39m(app\u001b[38;5;241m.\u001b[39muser)\n",
      "File \u001b[0;32m~/anaconda3/lib/python3.10/site-packages/tweety/bot.py:38\u001b[0m, in \u001b[0;36mBotMethods.__init__\u001b[0;34m(self, session_name, proxy)\u001b[0m\n\u001b[1;32m     30\u001b[0m \u001b[38;5;124;03m\"\"\"\u001b[39;00m\n\u001b[1;32m     31\u001b[0m \u001b[38;5;124;03mConstructor of the Twitter Public class\u001b[39;00m\n\u001b[1;32m     32\u001b[0m \n\u001b[1;32m     33\u001b[0m \u001b[38;5;124;03m:param session_name: (`str`, `Session`) This is the name of the session which will be saved and can be loaded later\u001b[39;00m\n\u001b[1;32m     34\u001b[0m \u001b[38;5;124;03m:param proxy: (`dict` or `Proxy`) Provide the proxy you want to use while making a request\u001b[39;00m\n\u001b[1;32m     35\u001b[0m \u001b[38;5;124;03m\"\"\"\u001b[39;00m\n\u001b[1;32m     37\u001b[0m \u001b[38;5;28mself\u001b[39m\u001b[38;5;241m.\u001b[39m_event_builders \u001b[38;5;241m=\u001b[39m []\n\u001b[0;32m---> 38\u001b[0m \u001b[38;5;28mself\u001b[39m\u001b[38;5;241m.\u001b[39msession \u001b[38;5;241m=\u001b[39m \u001b[43mSession\u001b[49m\u001b[43m(\u001b[49m\u001b[43msession_name\u001b[49m\u001b[43m)\u001b[49m \u001b[38;5;28;01mif\u001b[39;00m \u001b[38;5;28misinstance\u001b[39m(session_name, \u001b[38;5;28mstr\u001b[39m) \u001b[38;5;28;01melse\u001b[39;00m session_name\n\u001b[1;32m     39\u001b[0m \u001b[38;5;28mself\u001b[39m\u001b[38;5;241m.\u001b[39mlogged_in \u001b[38;5;241m=\u001b[39m \u001b[38;5;28;01mFalse\u001b[39;00m\n\u001b[1;32m     40\u001b[0m \u001b[38;5;28mself\u001b[39m\u001b[38;5;241m.\u001b[39mrequest \u001b[38;5;241m=\u001b[39m Request(max_retries\u001b[38;5;241m=\u001b[39m\u001b[38;5;241m10\u001b[39m, proxy\u001b[38;5;241m=\u001b[39mproxy)\n",
      "File \u001b[0;32m~/anaconda3/lib/python3.10/site-packages/tweety/session.py:12\u001b[0m, in \u001b[0;36mSession.__init__\u001b[0;34m(self, session_name)\u001b[0m\n\u001b[1;32m     10\u001b[0m \u001b[38;5;28mself\u001b[39m\u001b[38;5;241m.\u001b[39mlogged_in \u001b[38;5;241m=\u001b[39m \u001b[38;5;28;01mFalse\u001b[39;00m\n\u001b[1;32m     11\u001b[0m \u001b[38;5;28mself\u001b[39m\u001b[38;5;241m.\u001b[39mcookies \u001b[38;5;241m=\u001b[39m \u001b[38;5;124m\"\u001b[39m\u001b[38;5;124m\"\u001b[39m\n\u001b[0;32m---> 12\u001b[0m \u001b[38;5;28;43mself\u001b[39;49m\u001b[38;5;241;43m.\u001b[39;49m\u001b[43m_load_session\u001b[49m\u001b[43m(\u001b[49m\u001b[43m)\u001b[49m\n",
      "File \u001b[0;32m~/anaconda3/lib/python3.10/site-packages/tweety/session.py:19\u001b[0m, in \u001b[0;36mSession._load_session\u001b[0;34m(self)\u001b[0m\n\u001b[1;32m     17\u001b[0m     session_data \u001b[38;5;241m=\u001b[39m json\u001b[38;5;241m.\u001b[39mload(f)\n\u001b[1;32m     18\u001b[0m     \u001b[38;5;28mself\u001b[39m\u001b[38;5;241m.\u001b[39mcookies \u001b[38;5;241m=\u001b[39m session_data[\u001b[38;5;124m'\u001b[39m\u001b[38;5;124mcookies\u001b[39m\u001b[38;5;124m'\u001b[39m]\n\u001b[0;32m---> 19\u001b[0m     \u001b[38;5;28mself\u001b[39m\u001b[38;5;241m.\u001b[39muser \u001b[38;5;241m=\u001b[39m \u001b[43msession_data\u001b[49m\u001b[43m[\u001b[49m\u001b[38;5;124;43m'\u001b[39;49m\u001b[38;5;124;43muser\u001b[39;49m\u001b[38;5;124;43m'\u001b[39;49m\u001b[43m]\u001b[49m\n\u001b[1;32m     21\u001b[0m \u001b[38;5;28mself\u001b[39m\u001b[38;5;241m.\u001b[39mlogged_in \u001b[38;5;241m=\u001b[39m \u001b[38;5;28;01mTrue\u001b[39;00m\n",
      "\u001b[0;31mKeyError\u001b[0m: 'user'"
     ]
    }
   ],
   "source": [
    "from tweety import Twitter\n",
    "\n",
    "username = 'shemaya_55'\n",
    "password= '08237057005'\n",
    "\n",
    "app = Twitter(\"session\")\n",
    "app.sign_in(username, password)\n",
    "print(app.user)"
   ]
  },
  {
   "cell_type": "code",
   "execution_count": 15,
   "id": "eae8ccd0",
   "metadata": {},
   "outputs": [
    {
     "ename": "KeyError",
     "evalue": "'user'",
     "output_type": "error",
     "traceback": [
      "\u001b[0;31m---------------------------------------------------------------------------\u001b[0m",
      "\u001b[0;31mKeyError\u001b[0m                                  Traceback (most recent call last)",
      "Cell \u001b[0;32mIn[15], line 7\u001b[0m\n\u001b[1;32m      3\u001b[0m cookies_value \u001b[38;5;241m=\u001b[39m \u001b[38;5;124m\"\"\"\u001b[39m\u001b[38;5;124mguest_id=guest_id_value; guest_id_marketing=guest_id_marketing; guest_id_ads=guest_id_ads; kdt=kdt_value; auth_token=auth_token_value; ct0=ct0_value; twid=twid_value; personalization_id=\u001b[39m\u001b[38;5;124m\"\u001b[39m\u001b[38;5;124mpersonalization_id_value\u001b[39m\u001b[38;5;124m\"\u001b[39m\u001b[38;5;124m \u001b[39m\u001b[38;5;124m\"\"\"\u001b[39m\n\u001b[1;32m      5\u001b[0m \u001b[38;5;66;03m# Cookies can be a str or a dict\u001b[39;00m\n\u001b[0;32m----> 7\u001b[0m app \u001b[38;5;241m=\u001b[39m \u001b[43mTwitter\u001b[49m\u001b[43m(\u001b[49m\u001b[38;5;124;43m\"\u001b[39;49m\u001b[38;5;124;43msession\u001b[39;49m\u001b[38;5;124;43m\"\u001b[39;49m\u001b[43m)\u001b[49m\n\u001b[1;32m      8\u001b[0m app\u001b[38;5;241m.\u001b[39mload_cookies(cookies_value)\n\u001b[1;32m      9\u001b[0m \u001b[38;5;28mprint\u001b[39m(app\u001b[38;5;241m.\u001b[39muser)\n",
      "File \u001b[0;32m~/anaconda3/lib/python3.10/site-packages/tweety/bot.py:38\u001b[0m, in \u001b[0;36mBotMethods.__init__\u001b[0;34m(self, session_name, proxy)\u001b[0m\n\u001b[1;32m     30\u001b[0m \u001b[38;5;124;03m\"\"\"\u001b[39;00m\n\u001b[1;32m     31\u001b[0m \u001b[38;5;124;03mConstructor of the Twitter Public class\u001b[39;00m\n\u001b[1;32m     32\u001b[0m \n\u001b[1;32m     33\u001b[0m \u001b[38;5;124;03m:param session_name: (`str`, `Session`) This is the name of the session which will be saved and can be loaded later\u001b[39;00m\n\u001b[1;32m     34\u001b[0m \u001b[38;5;124;03m:param proxy: (`dict` or `Proxy`) Provide the proxy you want to use while making a request\u001b[39;00m\n\u001b[1;32m     35\u001b[0m \u001b[38;5;124;03m\"\"\"\u001b[39;00m\n\u001b[1;32m     37\u001b[0m \u001b[38;5;28mself\u001b[39m\u001b[38;5;241m.\u001b[39m_event_builders \u001b[38;5;241m=\u001b[39m []\n\u001b[0;32m---> 38\u001b[0m \u001b[38;5;28mself\u001b[39m\u001b[38;5;241m.\u001b[39msession \u001b[38;5;241m=\u001b[39m \u001b[43mSession\u001b[49m\u001b[43m(\u001b[49m\u001b[43msession_name\u001b[49m\u001b[43m)\u001b[49m \u001b[38;5;28;01mif\u001b[39;00m \u001b[38;5;28misinstance\u001b[39m(session_name, \u001b[38;5;28mstr\u001b[39m) \u001b[38;5;28;01melse\u001b[39;00m session_name\n\u001b[1;32m     39\u001b[0m \u001b[38;5;28mself\u001b[39m\u001b[38;5;241m.\u001b[39mlogged_in \u001b[38;5;241m=\u001b[39m \u001b[38;5;28;01mFalse\u001b[39;00m\n\u001b[1;32m     40\u001b[0m \u001b[38;5;28mself\u001b[39m\u001b[38;5;241m.\u001b[39mrequest \u001b[38;5;241m=\u001b[39m Request(max_retries\u001b[38;5;241m=\u001b[39m\u001b[38;5;241m10\u001b[39m, proxy\u001b[38;5;241m=\u001b[39mproxy)\n",
      "File \u001b[0;32m~/anaconda3/lib/python3.10/site-packages/tweety/session.py:12\u001b[0m, in \u001b[0;36mSession.__init__\u001b[0;34m(self, session_name)\u001b[0m\n\u001b[1;32m     10\u001b[0m \u001b[38;5;28mself\u001b[39m\u001b[38;5;241m.\u001b[39mlogged_in \u001b[38;5;241m=\u001b[39m \u001b[38;5;28;01mFalse\u001b[39;00m\n\u001b[1;32m     11\u001b[0m \u001b[38;5;28mself\u001b[39m\u001b[38;5;241m.\u001b[39mcookies \u001b[38;5;241m=\u001b[39m \u001b[38;5;124m\"\u001b[39m\u001b[38;5;124m\"\u001b[39m\n\u001b[0;32m---> 12\u001b[0m \u001b[38;5;28;43mself\u001b[39;49m\u001b[38;5;241;43m.\u001b[39;49m\u001b[43m_load_session\u001b[49m\u001b[43m(\u001b[49m\u001b[43m)\u001b[49m\n",
      "File \u001b[0;32m~/anaconda3/lib/python3.10/site-packages/tweety/session.py:19\u001b[0m, in \u001b[0;36mSession._load_session\u001b[0;34m(self)\u001b[0m\n\u001b[1;32m     17\u001b[0m     session_data \u001b[38;5;241m=\u001b[39m json\u001b[38;5;241m.\u001b[39mload(f)\n\u001b[1;32m     18\u001b[0m     \u001b[38;5;28mself\u001b[39m\u001b[38;5;241m.\u001b[39mcookies \u001b[38;5;241m=\u001b[39m session_data[\u001b[38;5;124m'\u001b[39m\u001b[38;5;124mcookies\u001b[39m\u001b[38;5;124m'\u001b[39m]\n\u001b[0;32m---> 19\u001b[0m     \u001b[38;5;28mself\u001b[39m\u001b[38;5;241m.\u001b[39muser \u001b[38;5;241m=\u001b[39m \u001b[43msession_data\u001b[49m\u001b[43m[\u001b[49m\u001b[38;5;124;43m'\u001b[39;49m\u001b[38;5;124;43muser\u001b[39;49m\u001b[38;5;124;43m'\u001b[39;49m\u001b[43m]\u001b[49m\n\u001b[1;32m     21\u001b[0m \u001b[38;5;28mself\u001b[39m\u001b[38;5;241m.\u001b[39mlogged_in \u001b[38;5;241m=\u001b[39m \u001b[38;5;28;01mTrue\u001b[39;00m\n",
      "\u001b[0;31mKeyError\u001b[0m: 'user'"
     ]
    }
   ],
   "source": [
    "from tweety import Twitter\n",
    "\n",
    "cookies_value = \"\"\"guest_id=guest_id_value; guest_id_marketing=guest_id_marketing; guest_id_ads=guest_id_ads; kdt=kdt_value; auth_token=auth_token_value; ct0=ct0_value; twid=twid_value; personalization_id=\"personalization_id_value\" \"\"\"\n",
    "\n",
    "# Cookies can be a str or a dict\n",
    "\n",
    "app = Twitter(\"session\")\n",
    "app.load_cookies(cookies_value)\n",
    "print(app.user)"
   ]
  },
  {
   "cell_type": "code",
   "execution_count": null,
   "id": "9da75500",
   "metadata": {},
   "outputs": [],
   "source": []
  },
  {
   "cell_type": "code",
   "execution_count": null,
   "id": "4fbefd18",
   "metadata": {},
   "outputs": [],
   "source": []
  }
 ],
 "metadata": {
  "kernelspec": {
   "display_name": "Python 3 (ipykernel)",
   "language": "python",
   "name": "python3"
  },
  "language_info": {
   "codemirror_mode": {
    "name": "ipython",
    "version": 3
   },
   "file_extension": ".py",
   "mimetype": "text/x-python",
   "name": "python",
   "nbconvert_exporter": "python",
   "pygments_lexer": "ipython3",
   "version": "3.10.9"
  }
 },
 "nbformat": 4,
 "nbformat_minor": 5
}
